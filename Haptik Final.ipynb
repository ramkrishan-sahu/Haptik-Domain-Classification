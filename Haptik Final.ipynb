{
 "cells": [
  {
   "cell_type": "code",
   "execution_count": 1,
   "metadata": {
    "ExecuteTime": {
     "end_time": "2017-11-12T18:20:30.993992Z",
     "start_time": "2017-11-12T18:20:19.625995Z"
    },
    "collapsed": true
   },
   "outputs": [],
   "source": [
    "from __future__ import absolute_import\n",
    "from __future__ import division\n",
    "from __future__ import print_function\n",
    "from __future__ import unicode_literals\n",
    "\n",
    "\n",
    "import pandas as pd\n",
    "import numpy as np\n",
    "import time\n",
    "import re\n",
    "import string\n",
    "import copy\n",
    "import operator\n",
    "import matplotlib.pyplot as plt\n",
    "import seaborn as sns\n",
    "%matplotlib inline\n",
    "\n",
    "\n",
    "\n",
    "\n",
    "from nltk.tokenize import TreebankWordTokenizer\n",
    "from stop_words import get_stop_words\n",
    "from nltk.stem.porter import PorterStemmer\n",
    "from wordcloud import WordCloud\n",
    "import matplotlib.pyplot as plt\n",
    "from sklearn.feature_extraction.text import CountVectorizer\n",
    "from sklearn.preprocessing import LabelEncoder\n",
    "from sklearn.naive_bayes import MultinomialNB\n",
    "from sklearn.multiclass import OneVsRestClassifier\n",
    "from sklearn.metrics import accuracy_score, classification_report\n",
    "import pprint\n",
    "from sklearn.ensemble import RandomForestClassifier\n",
    "import matplotlib.pyplot as plt"
   ]
  },
  {
   "cell_type": "code",
   "execution_count": 2,
   "metadata": {
    "ExecuteTime": {
     "end_time": "2017-11-12T18:20:31.284608Z",
     "start_time": "2017-11-12T18:20:31.003530Z"
    },
    "collapsed": true
   },
   "outputs": [],
   "source": [
    "#def get_data():\n",
    "train_haptik = pd.read_csv('../Haptik-Domain-Classification/Data/Haptik_train_data.csv', encoding = 'UTF-8')\n",
    "test_haptik = pd.read_csv('../Haptik-Domain-Classification/Data/Haptik_test_data.csv', encoding = 'UTF-8')\n",
    "#return train_haptik, test_haptik    "
   ]
  },
  {
   "cell_type": "code",
   "execution_count": 3,
   "metadata": {
    "ExecuteTime": {
     "end_time": "2017-11-12T18:20:31.295761Z",
     "start_time": "2017-11-12T18:20:31.286242Z"
    }
   },
   "outputs": [
    {
     "data": {
      "text/plain": [
       "(40657, 10)"
      ]
     },
     "execution_count": 3,
     "metadata": {},
     "output_type": "execute_result"
    }
   ],
   "source": [
    "train_haptik.shape"
   ]
  },
  {
   "cell_type": "code",
   "execution_count": 4,
   "metadata": {
    "ExecuteTime": {
     "end_time": "2017-11-12T18:20:31.443320Z",
     "start_time": "2017-11-12T18:20:31.298998Z"
    }
   },
   "outputs": [
    {
     "data": {
      "text/plain": [
       "0                                Nearest metro station\n",
       "1                    Pick up n drop service trough cab\n",
       "2                                I wants to buy a bick\n",
       "3                                        Show me pizza\n",
       "4    What is the cheapest package to andaman and ni...\n",
       "Name: message, dtype: object"
      ]
     },
     "execution_count": 4,
     "metadata": {},
     "output_type": "execute_result"
    }
   ],
   "source": [
    "def make_x_y():\n",
    "    global train_haptik\n",
    "    global test_haptik\n",
    "    x_train = train_haptik.iloc[:,0]\n",
    "    x_test = test_haptik.iloc[:,0]\n",
    "    Y_train = train_haptik.iloc[:,1:]\n",
    "    Y_test = test_haptik.iloc[:,1:]\n",
    "    return x_train, x_test, Y_train, Y_test\n",
    "x_train, x_test, Y_train, Y_test = make_x_y()\n",
    "#Y_train.head()\n",
    "x_test.head()"
   ]
  },
  {
   "cell_type": "code",
   "execution_count": 5,
   "metadata": {
    "ExecuteTime": {
     "end_time": "2017-11-12T18:20:31.498364Z",
     "start_time": "2017-11-12T18:20:31.446300Z"
    },
    "scrolled": true
   },
   "outputs": [
    {
     "data": {
      "text/html": [
       "<div>\n",
       "<style>\n",
       "    .dataframe thead tr:only-child th {\n",
       "        text-align: right;\n",
       "    }\n",
       "\n",
       "    .dataframe thead th {\n",
       "        text-align: left;\n",
       "    }\n",
       "\n",
       "    .dataframe tbody tr th {\n",
       "        vertical-align: top;\n",
       "    }\n",
       "</style>\n",
       "<table border=\"1\" class=\"dataframe\">\n",
       "  <thead>\n",
       "    <tr style=\"text-align: right;\">\n",
       "      <th></th>\n",
       "      <th>food</th>\n",
       "      <th>recharge</th>\n",
       "      <th>support</th>\n",
       "      <th>reminders</th>\n",
       "      <th>travel</th>\n",
       "      <th>nearby</th>\n",
       "      <th>movies</th>\n",
       "      <th>casual</th>\n",
       "      <th>other</th>\n",
       "    </tr>\n",
       "  </thead>\n",
       "  <tbody>\n",
       "    <tr>\n",
       "      <th>0</th>\n",
       "      <td>F</td>\n",
       "      <td>F</td>\n",
       "      <td>F</td>\n",
       "      <td>T</td>\n",
       "      <td>F</td>\n",
       "      <td>F</td>\n",
       "      <td>F</td>\n",
       "      <td>F</td>\n",
       "      <td>F</td>\n",
       "    </tr>\n",
       "    <tr>\n",
       "      <th>1</th>\n",
       "      <td>T</td>\n",
       "      <td>F</td>\n",
       "      <td>F</td>\n",
       "      <td>F</td>\n",
       "      <td>F</td>\n",
       "      <td>F</td>\n",
       "      <td>F</td>\n",
       "      <td>F</td>\n",
       "      <td>F</td>\n",
       "    </tr>\n",
       "    <tr>\n",
       "      <th>2</th>\n",
       "      <td>F</td>\n",
       "      <td>F</td>\n",
       "      <td>T</td>\n",
       "      <td>F</td>\n",
       "      <td>F</td>\n",
       "      <td>F</td>\n",
       "      <td>F</td>\n",
       "      <td>F</td>\n",
       "      <td>F</td>\n",
       "    </tr>\n",
       "    <tr>\n",
       "      <th>3</th>\n",
       "      <td>F</td>\n",
       "      <td>F</td>\n",
       "      <td>F</td>\n",
       "      <td>F</td>\n",
       "      <td>T</td>\n",
       "      <td>F</td>\n",
       "      <td>F</td>\n",
       "      <td>F</td>\n",
       "      <td>F</td>\n",
       "    </tr>\n",
       "    <tr>\n",
       "      <th>4</th>\n",
       "      <td>F</td>\n",
       "      <td>F</td>\n",
       "      <td>F</td>\n",
       "      <td>F</td>\n",
       "      <td>T</td>\n",
       "      <td>F</td>\n",
       "      <td>F</td>\n",
       "      <td>F</td>\n",
       "      <td>F</td>\n",
       "    </tr>\n",
       "  </tbody>\n",
       "</table>\n",
       "</div>"
      ],
      "text/plain": [
       "  food recharge support reminders travel nearby movies casual other\n",
       "0    F        F       F         T      F      F      F      F     F\n",
       "1    T        F       F         F      F      F      F      F     F\n",
       "2    F        F       T         F      F      F      F      F     F\n",
       "3    F        F       F         F      T      F      F      F     F\n",
       "4    F        F       F         F      T      F      F      F     F"
      ]
     },
     "execution_count": 5,
     "metadata": {},
     "output_type": "execute_result"
    }
   ],
   "source": [
    "Y_train.head()"
   ]
  },
  {
   "cell_type": "code",
   "execution_count": 6,
   "metadata": {
    "ExecuteTime": {
     "end_time": "2017-11-12T18:20:31.572873Z",
     "start_time": "2017-11-12T18:20:31.500366Z"
    }
   },
   "outputs": [
    {
     "data": {
      "text/html": [
       "<div>\n",
       "<style>\n",
       "    .dataframe thead tr:only-child th {\n",
       "        text-align: right;\n",
       "    }\n",
       "\n",
       "    .dataframe thead th {\n",
       "        text-align: left;\n",
       "    }\n",
       "\n",
       "    .dataframe tbody tr th {\n",
       "        vertical-align: top;\n",
       "    }\n",
       "</style>\n",
       "<table border=\"1\" class=\"dataframe\">\n",
       "  <thead>\n",
       "    <tr style=\"text-align: right;\">\n",
       "      <th></th>\n",
       "      <th>food</th>\n",
       "      <th>recharge</th>\n",
       "      <th>support</th>\n",
       "      <th>reminders</th>\n",
       "      <th>travel</th>\n",
       "      <th>nearby</th>\n",
       "      <th>movies</th>\n",
       "      <th>casual</th>\n",
       "      <th>other</th>\n",
       "    </tr>\n",
       "  </thead>\n",
       "  <tbody>\n",
       "    <tr>\n",
       "      <th>0</th>\n",
       "      <td>F</td>\n",
       "      <td>F</td>\n",
       "      <td>F</td>\n",
       "      <td>F</td>\n",
       "      <td>F</td>\n",
       "      <td>T</td>\n",
       "      <td>F</td>\n",
       "      <td>F</td>\n",
       "      <td>F</td>\n",
       "    </tr>\n",
       "    <tr>\n",
       "      <th>1</th>\n",
       "      <td>F</td>\n",
       "      <td>F</td>\n",
       "      <td>F</td>\n",
       "      <td>F</td>\n",
       "      <td>T</td>\n",
       "      <td>F</td>\n",
       "      <td>F</td>\n",
       "      <td>F</td>\n",
       "      <td>F</td>\n",
       "    </tr>\n",
       "    <tr>\n",
       "      <th>2</th>\n",
       "      <td>F</td>\n",
       "      <td>F</td>\n",
       "      <td>F</td>\n",
       "      <td>F</td>\n",
       "      <td>F</td>\n",
       "      <td>F</td>\n",
       "      <td>F</td>\n",
       "      <td>F</td>\n",
       "      <td>T</td>\n",
       "    </tr>\n",
       "    <tr>\n",
       "      <th>3</th>\n",
       "      <td>T</td>\n",
       "      <td>F</td>\n",
       "      <td>F</td>\n",
       "      <td>F</td>\n",
       "      <td>F</td>\n",
       "      <td>F</td>\n",
       "      <td>F</td>\n",
       "      <td>F</td>\n",
       "      <td>F</td>\n",
       "    </tr>\n",
       "    <tr>\n",
       "      <th>4</th>\n",
       "      <td>F</td>\n",
       "      <td>F</td>\n",
       "      <td>F</td>\n",
       "      <td>F</td>\n",
       "      <td>T</td>\n",
       "      <td>F</td>\n",
       "      <td>F</td>\n",
       "      <td>F</td>\n",
       "      <td>F</td>\n",
       "    </tr>\n",
       "  </tbody>\n",
       "</table>\n",
       "</div>"
      ],
      "text/plain": [
       "  food recharge support reminders travel nearby movies casual other\n",
       "0    F        F       F         F      F      T      F      F     F\n",
       "1    F        F       F         F      T      F      F      F     F\n",
       "2    F        F       F         F      F      F      F      F     T\n",
       "3    T        F       F         F      F      F      F      F     F\n",
       "4    F        F       F         F      T      F      F      F     F"
      ]
     },
     "execution_count": 6,
     "metadata": {},
     "output_type": "execute_result"
    }
   ],
   "source": [
    "Y_test.head()"
   ]
  },
  {
   "cell_type": "code",
   "execution_count": 7,
   "metadata": {
    "ExecuteTime": {
     "end_time": "2017-11-12T18:20:31.749476Z",
     "start_time": "2017-11-12T18:20:31.574782Z"
    }
   },
   "outputs": [
    {
     "data": {
      "text/html": [
       "<div>\n",
       "<style>\n",
       "    .dataframe thead tr:only-child th {\n",
       "        text-align: right;\n",
       "    }\n",
       "\n",
       "    .dataframe thead th {\n",
       "        text-align: left;\n",
       "    }\n",
       "\n",
       "    .dataframe tbody tr th {\n",
       "        vertical-align: top;\n",
       "    }\n",
       "</style>\n",
       "<table border=\"1\" class=\"dataframe\">\n",
       "  <thead>\n",
       "    <tr style=\"text-align: right;\">\n",
       "      <th></th>\n",
       "      <th>food</th>\n",
       "      <th>recharge</th>\n",
       "      <th>support</th>\n",
       "      <th>reminders</th>\n",
       "      <th>travel</th>\n",
       "      <th>nearby</th>\n",
       "      <th>movies</th>\n",
       "      <th>casual</th>\n",
       "      <th>other</th>\n",
       "    </tr>\n",
       "  </thead>\n",
       "  <tbody>\n",
       "    <tr>\n",
       "      <th>count</th>\n",
       "      <td>40652</td>\n",
       "      <td>40652</td>\n",
       "      <td>40652</td>\n",
       "      <td>40652</td>\n",
       "      <td>40652</td>\n",
       "      <td>40652</td>\n",
       "      <td>40652</td>\n",
       "      <td>40652</td>\n",
       "      <td>40651</td>\n",
       "    </tr>\n",
       "    <tr>\n",
       "      <th>unique</th>\n",
       "      <td>2</td>\n",
       "      <td>2</td>\n",
       "      <td>2</td>\n",
       "      <td>2</td>\n",
       "      <td>2</td>\n",
       "      <td>2</td>\n",
       "      <td>2</td>\n",
       "      <td>2</td>\n",
       "      <td>2</td>\n",
       "    </tr>\n",
       "    <tr>\n",
       "      <th>top</th>\n",
       "      <td>F</td>\n",
       "      <td>F</td>\n",
       "      <td>F</td>\n",
       "      <td>F</td>\n",
       "      <td>F</td>\n",
       "      <td>F</td>\n",
       "      <td>F</td>\n",
       "      <td>F</td>\n",
       "      <td>F</td>\n",
       "    </tr>\n",
       "    <tr>\n",
       "      <th>freq</th>\n",
       "      <td>36673</td>\n",
       "      <td>37565</td>\n",
       "      <td>38805</td>\n",
       "      <td>33322</td>\n",
       "      <td>27153</td>\n",
       "      <td>36061</td>\n",
       "      <td>36649</td>\n",
       "      <td>34597</td>\n",
       "      <td>37662</td>\n",
       "    </tr>\n",
       "  </tbody>\n",
       "</table>\n",
       "</div>"
      ],
      "text/plain": [
       "         food recharge support reminders travel nearby movies casual  other\n",
       "count   40652    40652   40652     40652  40652  40652  40652  40652  40651\n",
       "unique      2        2       2         2      2      2      2      2      2\n",
       "top         F        F       F         F      F      F      F      F      F\n",
       "freq    36673    37565   38805     33322  27153  36061  36649  34597  37662"
      ]
     },
     "execution_count": 7,
     "metadata": {},
     "output_type": "execute_result"
    }
   ],
   "source": [
    "Y_train.describe()"
   ]
  },
  {
   "cell_type": "markdown",
   "metadata": {},
   "source": [
    "### Multi label binarizer"
   ]
  },
  {
   "cell_type": "code",
   "execution_count": 8,
   "metadata": {
    "ExecuteTime": {
     "end_time": "2017-11-12T18:20:32.047776Z",
     "start_time": "2017-11-12T18:20:31.752096Z"
    },
    "collapsed": true,
    "scrolled": true
   },
   "outputs": [],
   "source": [
    "def multi_label_binarizer(df):\n",
    "    df = df.astype(str).applymap(lambda x: 1 if x=='T' else 0)\n",
    "    return df\n",
    "\n",
    "Y_train = multi_label_binarizer(Y_train)\n",
    "Y_test = multi_label_binarizer(Y_test)"
   ]
  },
  {
   "cell_type": "code",
   "execution_count": 9,
   "metadata": {
    "ExecuteTime": {
     "end_time": "2017-11-12T18:20:32.082085Z",
     "start_time": "2017-11-12T18:20:32.049663Z"
    }
   },
   "outputs": [
    {
     "data": {
      "text/html": [
       "<div>\n",
       "<style>\n",
       "    .dataframe thead tr:only-child th {\n",
       "        text-align: right;\n",
       "    }\n",
       "\n",
       "    .dataframe thead th {\n",
       "        text-align: left;\n",
       "    }\n",
       "\n",
       "    .dataframe tbody tr th {\n",
       "        vertical-align: top;\n",
       "    }\n",
       "</style>\n",
       "<table border=\"1\" class=\"dataframe\">\n",
       "  <thead>\n",
       "    <tr style=\"text-align: right;\">\n",
       "      <th></th>\n",
       "      <th>food</th>\n",
       "      <th>recharge</th>\n",
       "      <th>support</th>\n",
       "      <th>reminders</th>\n",
       "      <th>travel</th>\n",
       "      <th>nearby</th>\n",
       "      <th>movies</th>\n",
       "      <th>casual</th>\n",
       "      <th>other</th>\n",
       "    </tr>\n",
       "  </thead>\n",
       "  <tbody>\n",
       "    <tr>\n",
       "      <th>0</th>\n",
       "      <td>0</td>\n",
       "      <td>0</td>\n",
       "      <td>0</td>\n",
       "      <td>0</td>\n",
       "      <td>0</td>\n",
       "      <td>1</td>\n",
       "      <td>0</td>\n",
       "      <td>0</td>\n",
       "      <td>0</td>\n",
       "    </tr>\n",
       "    <tr>\n",
       "      <th>1</th>\n",
       "      <td>0</td>\n",
       "      <td>0</td>\n",
       "      <td>0</td>\n",
       "      <td>0</td>\n",
       "      <td>1</td>\n",
       "      <td>0</td>\n",
       "      <td>0</td>\n",
       "      <td>0</td>\n",
       "      <td>0</td>\n",
       "    </tr>\n",
       "    <tr>\n",
       "      <th>2</th>\n",
       "      <td>0</td>\n",
       "      <td>0</td>\n",
       "      <td>0</td>\n",
       "      <td>0</td>\n",
       "      <td>0</td>\n",
       "      <td>0</td>\n",
       "      <td>0</td>\n",
       "      <td>0</td>\n",
       "      <td>1</td>\n",
       "    </tr>\n",
       "    <tr>\n",
       "      <th>3</th>\n",
       "      <td>1</td>\n",
       "      <td>0</td>\n",
       "      <td>0</td>\n",
       "      <td>0</td>\n",
       "      <td>0</td>\n",
       "      <td>0</td>\n",
       "      <td>0</td>\n",
       "      <td>0</td>\n",
       "      <td>0</td>\n",
       "    </tr>\n",
       "    <tr>\n",
       "      <th>4</th>\n",
       "      <td>0</td>\n",
       "      <td>0</td>\n",
       "      <td>0</td>\n",
       "      <td>0</td>\n",
       "      <td>1</td>\n",
       "      <td>0</td>\n",
       "      <td>0</td>\n",
       "      <td>0</td>\n",
       "      <td>0</td>\n",
       "    </tr>\n",
       "    <tr>\n",
       "      <th>5</th>\n",
       "      <td>0</td>\n",
       "      <td>0</td>\n",
       "      <td>0</td>\n",
       "      <td>1</td>\n",
       "      <td>0</td>\n",
       "      <td>0</td>\n",
       "      <td>0</td>\n",
       "      <td>0</td>\n",
       "      <td>0</td>\n",
       "    </tr>\n",
       "    <tr>\n",
       "      <th>6</th>\n",
       "      <td>0</td>\n",
       "      <td>0</td>\n",
       "      <td>0</td>\n",
       "      <td>0</td>\n",
       "      <td>0</td>\n",
       "      <td>1</td>\n",
       "      <td>0</td>\n",
       "      <td>0</td>\n",
       "      <td>0</td>\n",
       "    </tr>\n",
       "    <tr>\n",
       "      <th>7</th>\n",
       "      <td>1</td>\n",
       "      <td>0</td>\n",
       "      <td>0</td>\n",
       "      <td>0</td>\n",
       "      <td>0</td>\n",
       "      <td>0</td>\n",
       "      <td>0</td>\n",
       "      <td>0</td>\n",
       "      <td>0</td>\n",
       "    </tr>\n",
       "    <tr>\n",
       "      <th>8</th>\n",
       "      <td>0</td>\n",
       "      <td>0</td>\n",
       "      <td>0</td>\n",
       "      <td>0</td>\n",
       "      <td>0</td>\n",
       "      <td>0</td>\n",
       "      <td>1</td>\n",
       "      <td>0</td>\n",
       "      <td>0</td>\n",
       "    </tr>\n",
       "    <tr>\n",
       "      <th>9</th>\n",
       "      <td>0</td>\n",
       "      <td>0</td>\n",
       "      <td>0</td>\n",
       "      <td>1</td>\n",
       "      <td>0</td>\n",
       "      <td>0</td>\n",
       "      <td>0</td>\n",
       "      <td>0</td>\n",
       "      <td>0</td>\n",
       "    </tr>\n",
       "    <tr>\n",
       "      <th>10</th>\n",
       "      <td>0</td>\n",
       "      <td>0</td>\n",
       "      <td>0</td>\n",
       "      <td>0</td>\n",
       "      <td>0</td>\n",
       "      <td>0</td>\n",
       "      <td>0</td>\n",
       "      <td>0</td>\n",
       "      <td>1</td>\n",
       "    </tr>\n",
       "    <tr>\n",
       "      <th>11</th>\n",
       "      <td>0</td>\n",
       "      <td>0</td>\n",
       "      <td>0</td>\n",
       "      <td>0</td>\n",
       "      <td>0</td>\n",
       "      <td>0</td>\n",
       "      <td>1</td>\n",
       "      <td>0</td>\n",
       "      <td>0</td>\n",
       "    </tr>\n",
       "    <tr>\n",
       "      <th>12</th>\n",
       "      <td>0</td>\n",
       "      <td>0</td>\n",
       "      <td>0</td>\n",
       "      <td>0</td>\n",
       "      <td>0</td>\n",
       "      <td>0</td>\n",
       "      <td>0</td>\n",
       "      <td>0</td>\n",
       "      <td>1</td>\n",
       "    </tr>\n",
       "    <tr>\n",
       "      <th>13</th>\n",
       "      <td>0</td>\n",
       "      <td>0</td>\n",
       "      <td>0</td>\n",
       "      <td>0</td>\n",
       "      <td>1</td>\n",
       "      <td>0</td>\n",
       "      <td>0</td>\n",
       "      <td>0</td>\n",
       "      <td>0</td>\n",
       "    </tr>\n",
       "    <tr>\n",
       "      <th>14</th>\n",
       "      <td>0</td>\n",
       "      <td>0</td>\n",
       "      <td>0</td>\n",
       "      <td>0</td>\n",
       "      <td>0</td>\n",
       "      <td>0</td>\n",
       "      <td>0</td>\n",
       "      <td>0</td>\n",
       "      <td>1</td>\n",
       "    </tr>\n",
       "  </tbody>\n",
       "</table>\n",
       "</div>"
      ],
      "text/plain": [
       "    food  recharge  support  reminders  travel  nearby  movies  casual  other\n",
       "0      0         0        0          0       0       1       0       0      0\n",
       "1      0         0        0          0       1       0       0       0      0\n",
       "2      0         0        0          0       0       0       0       0      1\n",
       "3      1         0        0          0       0       0       0       0      0\n",
       "4      0         0        0          0       1       0       0       0      0\n",
       "5      0         0        0          1       0       0       0       0      0\n",
       "6      0         0        0          0       0       1       0       0      0\n",
       "7      1         0        0          0       0       0       0       0      0\n",
       "8      0         0        0          0       0       0       1       0      0\n",
       "9      0         0        0          1       0       0       0       0      0\n",
       "10     0         0        0          0       0       0       0       0      1\n",
       "11     0         0        0          0       0       0       1       0      0\n",
       "12     0         0        0          0       0       0       0       0      1\n",
       "13     0         0        0          0       1       0       0       0      0\n",
       "14     0         0        0          0       0       0       0       0      1"
      ]
     },
     "execution_count": 9,
     "metadata": {},
     "output_type": "execute_result"
    }
   ],
   "source": [
    "Y_test.head(15)"
   ]
  },
  {
   "cell_type": "code",
   "execution_count": 10,
   "metadata": {
    "ExecuteTime": {
     "end_time": "2017-11-12T18:20:32.190002Z",
     "start_time": "2017-11-12T18:20:32.084773Z"
    }
   },
   "outputs": [
    {
     "data": {
      "text/html": [
       "<div>\n",
       "<style>\n",
       "    .dataframe thead tr:only-child th {\n",
       "        text-align: right;\n",
       "    }\n",
       "\n",
       "    .dataframe thead th {\n",
       "        text-align: left;\n",
       "    }\n",
       "\n",
       "    .dataframe tbody tr th {\n",
       "        vertical-align: top;\n",
       "    }\n",
       "</style>\n",
       "<table border=\"1\" class=\"dataframe\">\n",
       "  <thead>\n",
       "    <tr style=\"text-align: right;\">\n",
       "      <th></th>\n",
       "      <th>food</th>\n",
       "      <th>recharge</th>\n",
       "      <th>support</th>\n",
       "      <th>reminders</th>\n",
       "      <th>travel</th>\n",
       "      <th>nearby</th>\n",
       "      <th>movies</th>\n",
       "      <th>casual</th>\n",
       "      <th>other</th>\n",
       "    </tr>\n",
       "  </thead>\n",
       "  <tbody>\n",
       "    <tr>\n",
       "      <th>0</th>\n",
       "      <td>0</td>\n",
       "      <td>0</td>\n",
       "      <td>0</td>\n",
       "      <td>1</td>\n",
       "      <td>0</td>\n",
       "      <td>0</td>\n",
       "      <td>0</td>\n",
       "      <td>0</td>\n",
       "      <td>0</td>\n",
       "    </tr>\n",
       "    <tr>\n",
       "      <th>1</th>\n",
       "      <td>1</td>\n",
       "      <td>0</td>\n",
       "      <td>0</td>\n",
       "      <td>0</td>\n",
       "      <td>0</td>\n",
       "      <td>0</td>\n",
       "      <td>0</td>\n",
       "      <td>0</td>\n",
       "      <td>0</td>\n",
       "    </tr>\n",
       "    <tr>\n",
       "      <th>2</th>\n",
       "      <td>0</td>\n",
       "      <td>0</td>\n",
       "      <td>1</td>\n",
       "      <td>0</td>\n",
       "      <td>0</td>\n",
       "      <td>0</td>\n",
       "      <td>0</td>\n",
       "      <td>0</td>\n",
       "      <td>0</td>\n",
       "    </tr>\n",
       "    <tr>\n",
       "      <th>3</th>\n",
       "      <td>0</td>\n",
       "      <td>0</td>\n",
       "      <td>0</td>\n",
       "      <td>0</td>\n",
       "      <td>1</td>\n",
       "      <td>0</td>\n",
       "      <td>0</td>\n",
       "      <td>0</td>\n",
       "      <td>0</td>\n",
       "    </tr>\n",
       "    <tr>\n",
       "      <th>4</th>\n",
       "      <td>0</td>\n",
       "      <td>0</td>\n",
       "      <td>0</td>\n",
       "      <td>0</td>\n",
       "      <td>1</td>\n",
       "      <td>0</td>\n",
       "      <td>0</td>\n",
       "      <td>0</td>\n",
       "      <td>0</td>\n",
       "    </tr>\n",
       "  </tbody>\n",
       "</table>\n",
       "</div>"
      ],
      "text/plain": [
       "   food  recharge  support  reminders  travel  nearby  movies  casual  other\n",
       "0     0         0        0          1       0       0       0       0      0\n",
       "1     1         0        0          0       0       0       0       0      0\n",
       "2     0         0        1          0       0       0       0       0      0\n",
       "3     0         0        0          0       1       0       0       0      0\n",
       "4     0         0        0          0       1       0       0       0      0"
      ]
     },
     "execution_count": 10,
     "metadata": {},
     "output_type": "execute_result"
    }
   ],
   "source": [
    "Y_train.head()"
   ]
  },
  {
   "cell_type": "code",
   "execution_count": 11,
   "metadata": {
    "ExecuteTime": {
     "end_time": "2017-11-12T18:20:32.259524Z",
     "start_time": "2017-11-12T18:20:32.192870Z"
    },
    "collapsed": true
   },
   "outputs": [],
   "source": [
    "remove_list = [\",\", ':',\"?\", \"}\", \"{\", \"...\", \".\", \")\", \"(\", \"hi\", \"!\", \"_\", \"r\", \"n\", 'd', \"..\", \"h\",\n",
    "               \"sl\", \"@\", \"&\", \"s\", \"''\", \"0\", \"-\", \"r\", \"..\", \"h\", \"@\", \"'ll\", \"can\", \"u\", \"pleas\", \"like\",\n",
    "               \"hello\"]"
   ]
  },
  {
   "cell_type": "markdown",
   "metadata": {},
   "source": [
    "### TreebankWordTokenizer"
   ]
  },
  {
   "cell_type": "code",
   "execution_count": 12,
   "metadata": {
    "ExecuteTime": {
     "end_time": "2017-11-12T18:20:32.360179Z",
     "start_time": "2017-11-12T18:20:32.262843Z"
    },
    "collapsed": true
   },
   "outputs": [],
   "source": [
    "from nltk.tokenize import TreebankWordTokenizer\n",
    "def Tree_bank_WordTokenizer(x):\n",
    "    tokenizer = TreebankWordTokenizer()\n",
    "    x = x.apply(lambda x: x.lower()).apply(lambda x: tokenizer.tokenize(x))\n",
    "    return x"
   ]
  },
  {
   "cell_type": "code",
   "execution_count": 13,
   "metadata": {
    "ExecuteTime": {
     "end_time": "2017-11-12T18:20:35.879017Z",
     "start_time": "2017-11-12T18:20:32.362383Z"
    }
   },
   "outputs": [
    {
     "data": {
      "text/plain": [
       "0                                      [7am, everyday]\n",
       "1                                    [chocolate, cake]\n",
       "2    [closed, mortice, and, tenon, joint, door, dim...\n",
       "3                              [train, eppo, kelambum]\n",
       "4    [yesterday, i, have, cancelled, the, flight, t...\n",
       "Name: message, dtype: object"
      ]
     },
     "execution_count": 13,
     "metadata": {},
     "output_type": "execute_result"
    }
   ],
   "source": [
    "x_train = Tree_bank_WordTokenizer(x_train)\n",
    "x_train.head()"
   ]
  },
  {
   "cell_type": "code",
   "execution_count": 14,
   "metadata": {
    "ExecuteTime": {
     "end_time": "2017-11-12T18:20:36.761462Z",
     "start_time": "2017-11-12T18:20:35.881611Z"
    }
   },
   "outputs": [
    {
     "data": {
      "text/plain": [
       "0                            [nearest, metro, station]\n",
       "1            [pick, up, n, drop, service, trough, cab]\n",
       "2                         [i, wants, to, buy, a, bick]\n",
       "3                                    [show, me, pizza]\n",
       "4    [what, is, the, cheapest, package, to, andaman...\n",
       "Name: message, dtype: object"
      ]
     },
     "execution_count": 14,
     "metadata": {},
     "output_type": "execute_result"
    }
   ],
   "source": [
    "x_test = Tree_bank_WordTokenizer(x_test)\n",
    "x_test.head()"
   ]
  },
  {
   "cell_type": "markdown",
   "metadata": {
    "ExecuteTime": {
     "end_time": "2017-08-17T12:33:34.748219Z",
     "start_time": "2017-08-17T12:33:34.745083Z"
    }
   },
   "source": [
    "### PorterStemmer"
   ]
  },
  {
   "cell_type": "code",
   "execution_count": 15,
   "metadata": {
    "ExecuteTime": {
     "end_time": "2017-11-12T18:20:36.770207Z",
     "start_time": "2017-11-12T18:20:36.764146Z"
    },
    "collapsed": true
   },
   "outputs": [],
   "source": [
    "from nltk.stem.porter import PorterStemmer\n",
    "\n",
    "def por_stemmer(x):\n",
    "    p_stemmer = PorterStemmer()\n",
    "    x = x.apply(lambda row: [p_stemmer.stem(i) for i in row])\n",
    "    return x"
   ]
  },
  {
   "cell_type": "code",
   "execution_count": 16,
   "metadata": {
    "ExecuteTime": {
     "end_time": "2017-11-12T18:20:42.262017Z",
     "start_time": "2017-11-12T18:20:36.772778Z"
    },
    "scrolled": true
   },
   "outputs": [
    {
     "data": {
      "text/plain": [
       "0                                      [7am, everyday]\n",
       "1                                       [chocol, cake]\n",
       "2     [close, mortic, and, tenon, joint, door, diment]\n",
       "3                              [train, eppo, kelambum]\n",
       "4    [yesterday, i, have, cancel, the, flight, ticket]\n",
       "Name: message, dtype: object"
      ]
     },
     "execution_count": 16,
     "metadata": {},
     "output_type": "execute_result"
    }
   ],
   "source": [
    "x_train = por_stemmer(x_train)\n",
    "x_train.head()"
   ]
  },
  {
   "cell_type": "code",
   "execution_count": 17,
   "metadata": {
    "ExecuteTime": {
     "end_time": "2017-11-12T18:20:43.497998Z",
     "start_time": "2017-11-12T18:20:42.264608Z"
    },
    "scrolled": true
   },
   "outputs": [
    {
     "data": {
      "text/plain": [
       "0                            [nearest, metro, station]\n",
       "1             [pick, up, n, drop, servic, trough, cab]\n",
       "2                          [i, want, to, buy, a, bick]\n",
       "3                                    [show, me, pizza]\n",
       "4    [what, is, the, cheapest, packag, to, andaman,...\n",
       "Name: message, dtype: object"
      ]
     },
     "execution_count": 17,
     "metadata": {},
     "output_type": "execute_result"
    }
   ],
   "source": [
    "x_test = por_stemmer(x_test)\n",
    "x_test.head()"
   ]
  },
  {
   "cell_type": "code",
   "execution_count": 18,
   "metadata": {
    "ExecuteTime": {
     "end_time": "2017-11-12T18:20:43.508918Z",
     "start_time": "2017-11-12T18:20:43.500725Z"
    }
   },
   "outputs": [
    {
     "data": {
      "text/plain": [
       "0                            [nearest, metro, station]\n",
       "1             [pick, up, n, drop, servic, trough, cab]\n",
       "2                          [i, want, to, buy, a, bick]\n",
       "3                                    [show, me, pizza]\n",
       "4    [what, is, the, cheapest, packag, to, andaman,...\n",
       "Name: message, dtype: object"
      ]
     },
     "execution_count": 18,
     "metadata": {},
     "output_type": "execute_result"
    }
   ],
   "source": [
    "x_test.head()"
   ]
  },
  {
   "cell_type": "markdown",
   "metadata": {},
   "source": [
    "### Stop word removal"
   ]
  },
  {
   "cell_type": "code",
   "execution_count": 19,
   "metadata": {
    "ExecuteTime": {
     "end_time": "2017-11-12T18:20:43.604987Z",
     "start_time": "2017-11-12T18:20:43.511305Z"
    },
    "collapsed": true
   },
   "outputs": [],
   "source": [
    "en_stop = get_stop_words('en')\n",
    "en_stop \n",
    "\n",
    "remove_list = [\",\", ':',\"?\", \"}\", \"{\", \"...\", \".\", \")\", \"(\", \"hi\", \"!\", \"_\", \"r\", \"n\", 'd', \"..\", \"h\",\n",
    "               \"sl\", \"@\", \"&\", \"s\", \"''\", \"0\", \"-\", \"r\", \"..\", \"h\", \"@\", \"'ll\", \"can\", \"u\", \"pleas\", \"like\",\n",
    "               \"hello\", ]\n",
    "\n",
    "stops = en_stop + remove_list"
   ]
  },
  {
   "cell_type": "markdown",
   "metadata": {
    "ExecuteTime": {
     "end_time": "2017-08-17T12:32:59.599067Z",
     "start_time": "2017-08-17T12:32:59.579406Z"
    }
   },
   "source": [
    "### Frequency of Labels"
   ]
  },
  {
   "cell_type": "code",
   "execution_count": 20,
   "metadata": {
    "ExecuteTime": {
     "end_time": "2017-11-12T18:20:44.417039Z",
     "start_time": "2017-11-12T18:20:43.607368Z"
    },
    "collapsed": true
   },
   "outputs": [],
   "source": [
    "import seaborn as sns"
   ]
  },
  {
   "cell_type": "code",
   "execution_count": 21,
   "metadata": {
    "ExecuteTime": {
     "end_time": "2017-11-12T18:20:44.776129Z",
     "start_time": "2017-11-12T18:20:44.436084Z"
    }
   },
   "outputs": [
    {
     "data": {
      "image/png": "[encoded data removed]",
      "text/plain": [
       "<matplotlib.figure.Figure at 0x7f5772941f50>"
      ]
     },
     "metadata": {},
     "output_type": "display_data"
    }
   ],
   "source": [
    "dic = {\"food\" : 3979 ,\"recharge\": 3087, \"support\": 1847, \"reminders\": 7331, \"travel\": 13504,\n",
    "       \"nearby\": 4591,\"movies\": 4004, \"casual\": 6055, \"other\": 2989}\n",
    "\n",
    "plt.bar(range(len(dic)), dic.values(), align='center', width=0.8)\n",
    "plt.xticks(range(len(dic)), dic.keys())\n",
    "\n",
    "plt.show()"
   ]
  },
  {
   "cell_type": "markdown",
   "metadata": {},
   "source": [
    "Classification Function"
   ]
  },
  {
   "cell_type": "code",
   "execution_count": 22,
   "metadata": {
    "ExecuteTime": {
     "end_time": "2017-11-12T18:20:44.802780Z",
     "start_time": "2017-11-12T18:20:44.778448Z"
    },
    "collapsed": true
   },
   "outputs": [],
   "source": [
    "def classification2(x_train, x_test, Y_train, Y_test, clf, \n",
    "                   tokenizer = TreebankWordTokenizer(),\n",
    "                   stop_words=stops, ngram_range=[1, 3], \n",
    "                   max_df=0.5, min_df=2):\n",
    "    \n",
    "    vect = CountVectorizer()\n",
    "    tokenizer = tokenizer\n",
    "    vect.set_params(tokenizer=tokenizer.tokenize)\n",
    "    vect.set_params(stop_words=stops)\n",
    "\n",
    "    vect.set_params(max_df=max_df)\n",
    "    vect.set_params(min_df=min_df)\n",
    "\n",
    "    x_train = pd.Series([' '.join(x) for x in x_train])\n",
    "    x_test = pd.Series([' '.join(x) for x in x_test])\n",
    "\n",
    "    train_dtm = vect.fit_transform(x_train)\n",
    "\n",
    "    test_dtm = vect.transform(x_test)\n",
    "\n",
    "    clf.fit(train_dtm, Y_train)\n",
    "    Y_pred_class = clf.predict(test_dtm)\n",
    "\n",
    "    return  accuracy_score(Y_test, Y_pred_class), classification_report(Y_test, Y_pred_class)"
   ]
  },
  {
   "cell_type": "markdown",
   "metadata": {},
   "source": [
    "## OneVsRest Classifier\n"
   ]
  },
  {
   "cell_type": "code",
   "execution_count": 23,
   "metadata": {
    "ExecuteTime": {
     "end_time": "2017-11-12T18:20:50.412877Z",
     "start_time": "2017-11-12T18:20:44.805199Z"
    },
    "collapsed": true
   },
   "outputs": [],
   "source": [
    "acc, cm = classification2(x_train, x_test, Y_train, Y_test, clf = OneVsRestClassifier(MultinomialNB()))"
   ]
  },
  {
   "cell_type": "code",
   "execution_count": 24,
   "metadata": {
    "ExecuteTime": {
     "end_time": "2017-11-12T18:20:50.426744Z",
     "start_time": "2017-11-12T18:20:50.415378Z"
    }
   },
   "outputs": [
    {
     "name": "stdout",
     "output_type": "stream",
     "text": [
      "OneVsRestClassifier Accuracy: 62.93\n"
     ]
    }
   ],
   "source": [
    "print (\"OneVsRestClassifier Accuracy:\", acc*100)"
   ]
  },
  {
   "cell_type": "code",
   "execution_count": 25,
   "metadata": {
    "ExecuteTime": {
     "end_time": "2017-11-12T18:20:50.517044Z",
     "start_time": "2017-11-12T18:20:50.433787Z"
    }
   },
   "outputs": [
    {
     "name": "stdout",
     "output_type": "stream",
     "text": [
      "Classification report for OneVsRestClassifier:              precision    recall  f1-score   support\n",
      "\n",
      "          0       0.80      0.63      0.70       810\n",
      "          1       0.66      0.73      0.69       450\n",
      "          2       0.63      0.42      0.51       371\n",
      "          3       0.89      0.79      0.84       893\n",
      "          4       0.77      0.87      0.82      2138\n",
      "          5       0.55      0.64      0.59       807\n",
      "          6       0.76      0.53      0.62       637\n",
      "          7       0.89      0.57      0.70      3282\n",
      "          8       0.89      0.64      0.75      1668\n",
      "\n",
      "avg / total       0.81      0.67      0.72     11056\n",
      "\n"
     ]
    }
   ],
   "source": [
    "print (\"Classification report for OneVsRestClassifier:\", cm)"
   ]
  },
  {
   "cell_type": "markdown",
   "metadata": {},
   "source": [
    "## Random forest Classifier"
   ]
  },
  {
   "cell_type": "code",
   "execution_count": 26,
   "metadata": {
    "ExecuteTime": {
     "end_time": "2017-11-12T18:21:08.695804Z",
     "start_time": "2017-11-12T18:20:50.522442Z"
    },
    "collapsed": true
   },
   "outputs": [],
   "source": [
    "rf_acc, rf_cm = classification2(x_train, x_test, Y_train, Y_test, clf = RandomForestClassifier())"
   ]
  },
  {
   "cell_type": "code",
   "execution_count": 27,
   "metadata": {
    "ExecuteTime": {
     "end_time": "2017-11-12T18:21:08.702634Z",
     "start_time": "2017-11-12T18:21:08.697947Z"
    }
   },
   "outputs": [
    {
     "name": "stdout",
     "output_type": "stream",
     "text": [
      "Random forest Classifier Accuracy: 66.95\n",
      "Classification report for Random forest Classifier:              precision    recall  f1-score   support\n",
      "\n",
      "          0       0.76      0.60      0.67       810\n",
      "          1       0.72      0.65      0.68       450\n",
      "          2       0.56      0.29      0.38       371\n",
      "          3       0.85      0.84      0.85       893\n",
      "          4       0.79      0.84      0.81      2138\n",
      "          5       0.67      0.58      0.62       807\n",
      "          6       0.67      0.63      0.65       637\n",
      "          7       0.86      0.68      0.76      3282\n",
      "          8       0.90      0.49      0.63      1668\n",
      "\n",
      "avg / total       0.80      0.67      0.72     11056\n",
      "\n"
     ]
    }
   ],
   "source": [
    "print (\"Random forest Classifier Accuracy:\", rf_acc*100)\n",
    "\n",
    "print (\"Classification report for Random forest Classifier:\", rf_cm)"
   ]
  },
  {
   "cell_type": "markdown",
   "metadata": {},
   "source": [
    "# OneVsRestClassifier Accuracy: 63.09\n",
    "\n",
    "# Randomforest Accuracy: 66.32\n"
   ]
  }
 ],
 "metadata": {
  "kernelspec": {
   "display_name": "Python 2",
   "language": "python",
   "name": "python2"
  },
  "language_info": {
   "codemirror_mode": {
    "name": "ipython",
    "version": 2
   },
   "file_extension": ".py",
   "mimetype": "text/x-python",
   "name": "python",
   "nbconvert_exporter": "python",
   "pygments_lexer": "ipython2",
   "version": "2.7.13"
  },
  "toc": {
   "colors": {
    "hover_highlight": "#DAA520",
    "navigate_num": "#000000",
    "navigate_text": "#333333",
    "running_highlight": "#FF0000",
    "selected_highlight": "#FFD700",
    "sidebar_border": "#EEEEEE",
    "wrapper_background": "#FFFFFF"
   },
   "moveMenuLeft": true,
   "nav_menu": {
    "height": "12px",
    "width": "252px"
   },
   "navigate_menu": true,
   "number_sections": true,
   "sideBar": true,
   "threshold": 4,
   "toc_cell": false,
   "toc_section_display": "block",
   "toc_window_display": false,
   "widenNotebook": false
  },
  "varInspector": {
   "cols": {
    "lenName": 16,
    "lenType": 16,
    "lenVar": 40
   },
   "kernels_config": {
    "python": {
     "delete_cmd_postfix": "",
     "delete_cmd_prefix": "del ",
     "library": "var_list.py",
     "varRefreshCmd": "print(var_dic_list())"
    },
    "r": {
     "delete_cmd_postfix": ") ",
     "delete_cmd_prefix": "rm(",
     "library": "var_list.r",
     "varRefreshCmd": "cat(var_dic_list()) "
    }
   },
   "types_to_exclude": [
    "module",
    "function",
    "builtin_function_or_method",
    "instance",
    "_Feature"
   ],
   "window_display": false
  },
  "widgets": {
   "state": {},
   "version": "1.1.2"
  }
 },
 "nbformat": 4,
 "nbformat_minor": 2
}
